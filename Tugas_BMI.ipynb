{
  "nbformat": 4,
  "nbformat_minor": 0,
  "metadata": {
    "colab": {
      "name": "Tugas_BMI.ipynb",
      "version": "0.3.2",
      "provenance": [],
      "collapsed_sections": [],
      "toc_visible": true
    },
    "kernelspec": {
      "name": "python3",
      "display_name": "Python 3"
    }
  },
  "cells": [
    {
      "metadata": {
        "id": "B9KtNd7xbjcO",
        "colab_type": "text"
      },
      "cell_type": "markdown",
      "source": [
        "Nama: Abdul Haris\n",
        "---\n",
        "**LATIHAN**\n",
        "\n",
        "Body Mass Index (BMI) menentukan sebuah keidealan berat badan terhadap tinggi badan. Berikut adalah formula dari BMI : BMI = weight (kg) ÷ height^2 (m^2)\n",
        "\n",
        "Berikut adalah kategorisasi BMI\n",
        "\n",
        "BMI\t= Kategori BMI\t\n",
        "Kurang dari 15\t= Very severely underweight\t\n",
        "Diantara 15 dan 16\t= Severely underweight\t\n",
        "Diantara 16 dan 18.5\t= Underweight\t\n",
        "Diantara 18.5 dan 25\t= Normal (healthy weight)\t\n",
        "Diantara 25 dan 30\t= Overweight\t\n",
        "Diantara 30 dan 35\t= Moderately obese\t\n",
        "Diantara 35 dan 40\t= Severely obese\t\n",
        "Over 40\t= Very severely obese\n",
        "\n",
        "Buatlah sebuah program yang memiliki dua variabel berat badan dengan satuan KG, dan tinggi badan dengan satuan CM, kemudian keluaran dari program adalah Kategori BMI"
      ]
    },
    {
      "metadata": {
        "id": "GyjTNCq4cCO_",
        "colab_type": "text"
      },
      "cell_type": "markdown",
      "source": [
        "**Jawaban**\n",
        "\n",
        "1. Tentukan variabel terlebih dahulu"
      ]
    },
    {
      "metadata": {
        "id": "5jpvjm4mcOVz",
        "colab_type": "code",
        "colab": {
          "base_uri": "https://localhost:8080/",
          "height": 53
        },
        "outputId": "af09ced9-192a-48f9-e5f8-4b13deb5dae5"
      },
      "cell_type": "code",
      "source": [
        "weight = 71\n",
        "height = 165\n",
        "print(weight)\n",
        "print(height)"
      ],
      "execution_count": 2,
      "outputs": [
        {
          "output_type": "stream",
          "text": [
            "71\n",
            "165\n"
          ],
          "name": "stdout"
        }
      ]
    },
    {
      "metadata": {
        "id": "zp-i7eAZcbzC",
        "colab_type": "text"
      },
      "cell_type": "markdown",
      "source": [
        "2. Berikut adalah formula dari BMI.\n",
        "\n",
        "BMI = weight (kg) ÷ height^2 (m^2)"
      ]
    },
    {
      "metadata": {
        "id": "MYbo2I2tdKfS",
        "colab_type": "code",
        "colab": {
          "base_uri": "https://localhost:8080/",
          "height": 89
        },
        "outputId": "a555baf4-53f8-4b8b-b671-e0648fcf1ebe"
      },
      "cell_type": "code",
      "source": [
        "# hitung BMI\n",
        "bmi = weight / (height/100) ** 2\n",
        "\n",
        "# print tinggi, berat, dan skor BMI\n",
        "print(\"Your Height: \" + str(height) + \" cm\")\n",
        "print(\"Your Weight: \" + str(weight) + \" kg\")\n",
        "print(\"Your BMI Score: \" + str(bmi) + \" kg\")\n",
        "\n",
        "# tentukan kategori\n",
        "if bmi < 15:\n",
        "  print(\"Category: Very severely underweight\")\n",
        "elif 15 <= bmi < 16:\n",
        "  print(\"Category: Severely underweight\")\n",
        "elif 16 <= bmi < 18.5:\n",
        "  print(\"Category: Underweight\")\n",
        "elif 18.5 <= bmi < 25:\n",
        "  print(\"Category: Normal (healthy weight)\")\n",
        "elif 25 <= bmi < 30:\n",
        "  print(\"Category: Overweight\")\n",
        "elif 30 <= bmi < 35:\n",
        "  print(\"Category: Moderately obese\")\n",
        "elif 35 <= bmi < 40:\n",
        "  print(\"Category: Severely obese\")\n",
        "else:\n",
        "  print(\"Category: Very severely obese\") "
      ],
      "execution_count": 16,
      "outputs": [
        {
          "output_type": "stream",
          "text": [
            "Your Height: 165 cm\n",
            "Your Weight: 71 kg\n",
            "Your BMI Score: 26.07897153351699 kg\n",
            "Category: Overweight\n"
          ],
          "name": "stdout"
        }
      ]
    }
  ]
}