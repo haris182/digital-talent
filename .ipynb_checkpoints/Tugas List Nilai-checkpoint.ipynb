{
 "cells": [
  {
   "cell_type": "markdown",
   "metadata": {},
   "source": [
    "# LATIHAN 2 - Tugas List Nilai\n",
    "## Nama : Abdul Haris\n",
    "## Kelas: BIG DATA - A\n",
    "\n",
    "Diberikan sekumpulan Nilai Random antara 0 sampai dengan 100 sebanyak 250 nilai. Buatlah program untuk melakukan hal berikut:\n",
    "\n",
    "1. Tampilkan Angka Ganjil dari ke 250 nilai tersebut\n",
    "2. Tampilkan berapa banyak yang mendapatkan nilai lebih dari 70\n",
    "3. Tampilkan standar deviasi dari sekumpulan nilai tersebut\n",
    "4. Tampilkan nilai maksimum dan minimum\n",
    "5. Tampilkan modus dari sekumpulan nilai tersebut\n",
    "\n"
   ]
  },
  {
   "cell_type": "code",
   "execution_count": 110,
   "metadata": {
    "scrolled": true
   },
   "outputs": [
    {
     "name": "stdout",
     "output_type": "stream",
     "text": [
      "[70, 56, 67, 44, 56, 50, 77, 100, 13, 19, 5, 5, 96, 95, 80, 11, 18, 82, 67, 43, 64, 81, 72, 78, 16, 100, 69, 97, 31, 40, 11, 6, 12, 28, 16, 39, 55, 8, 28, 48, 45, 25, 10, 71, 34, 35, 82, 85, 91, 19, 10, 5, 21, 43, 75, 100, 61, 1, 99, 93, 17, 91, 96, 76, 76, 65, 18, 80, 64, 23, 6, 76, 69, 37, 20, 58, 28, 51, 67, 79, 63, 96, 22, 91, 70, 39, 89, 34, 67, 75, 35, 29, 76, 10, 16, 29, 79, 62, 37, 63, 17, 16, 70, 73, 0, 89, 11, 100, 77, 8, 85, 71, 32, 74, 37, 73, 40, 83, 90, 78, 69, 74, 58, 53, 75, 99, 0, 92, 41, 97, 49, 15, 63, 83, 94, 86, 22, 72, 41, 56, 16, 44, 10, 50, 20, 45, 88, 35, 45, 4, 11, 8, 16, 7, 20, 31, 11, 70, 32, 66, 52, 54, 88, 83, 64, 67, 85, 75, 28, 86, 45, 65, 41, 24, 8, 84, 65, 46, 69, 58, 6, 89, 54, 60, 47, 72, 100, 0, 44, 79, 22, 63, 91, 28, 76, 5, 65, 76, 27, 6, 2, 94, 79, 6, 79, 54, 70, 62, 31, 38, 13, 19, 56, 42, 81, 28, 4, 6, 25, 17, 43, 59, 49, 57, 13, 87, 96, 96, 88, 75, 26, 60, 66, 31, 32, 65, 97, 13, 56, 72, 13, 27, 99, 89, 18, 22, 88, 86, 48, 88]\n",
      "\n"
     ]
    }
   ],
   "source": [
    "import random\n",
    "import math\n",
    "\n",
    "# GENERATE RANDOM\n",
    "nilaiTugas = []\n",
    "\n",
    "for i in range(250):\n",
    "    nilaiTugas.append(random.randrange(0,101,1))\n",
    "\n",
    "print(nilaiTugas)\n",
    "\n",
    "ganjil = []\n",
    "lebih_dari = []\n",
    "maksimum = 0\n",
    "minimum = 50\n",
    "list_freq = {}\n",
    "total = 0\n",
    "total_kuadrat = 0\n",
    "\n",
    "for n in nilaiTugas:\n",
    "    # rumus ganjil\n",
    "    if n % 2 != 0:\n",
    "        ganjil.append(n)\n",
    "    # rumus lebih dari 70\n",
    "    if n > 70:\n",
    "        lebih_dari.append(n)\n",
    "    # rumus maksimum\n",
    "    if n > maksimum:\n",
    "        maksimum = n;\n",
    "    # rumus minimum\n",
    "    if n < minimum:\n",
    "        minimum = n;\n",
    "    # rumus modus\n",
    "    if n not in list_freq:\n",
    "        list_freq[n] = 1\n",
    "    else:\n",
    "        list_freq[n] = list_freq[n] + 1\n",
    "    # rumus untuk standar deviasi\n",
    "    total = total + n\n",
    "    total_kuadrat = total_kuadrat + (n**2)\n",
    "\n",
    "print()"
   ]
  },
  {
   "cell_type": "markdown",
   "metadata": {},
   "source": [
    "### 1. Tampilkan Angka Ganjil dari ke 250 nilai tersebut"
   ]
  },
  {
   "cell_type": "code",
   "execution_count": 111,
   "metadata": {},
   "outputs": [
    {
     "name": "stdout",
     "output_type": "stream",
     "text": [
      "Ganjil (Terdapat 121 nilai): \n",
      "[67, 77, 13, 19, 5, 5, 95, 11, 67, 43, 81, 69, 97, 31, 11, 39, 55, 45, 25, 71, 35, 85, 91, 19, 5, 21, 43, 75, 61, 1, 99, 93, 17, 91, 65, 23, 69, 37, 51, 67, 79, 63, 91, 39, 89, 67, 75, 35, 29, 29, 79, 37, 63, 17, 73, 89, 11, 77, 85, 71, 37, 73, 83, 69, 53, 75, 99, 41, 97, 49, 15, 63, 83, 41, 45, 35, 45, 11, 7, 31, 11, 83, 67, 85, 75, 45, 65, 41, 65, 69, 89, 47, 79, 63, 91, 5, 65, 27, 79, 79, 31, 13, 19, 81, 25, 17, 43, 59, 49, 57, 13, 87, 75, 31, 65, 97, 13, 13, 27, 99, 89]\n"
     ]
    }
   ],
   "source": [
    "# TAMPILKAN:\n",
    "# ganjil\n",
    "print(\"Ganjil (Terdapat\",len(ganjil), \"nilai): \")\n",
    "print(ganjil)"
   ]
  },
  {
   "cell_type": "markdown",
   "metadata": {},
   "source": [
    "### 2. Tampilkan berapa banyak yang mendapatkan nilai lebih dari 70"
   ]
  },
  {
   "cell_type": "code",
   "execution_count": 112,
   "metadata": {},
   "outputs": [
    {
     "name": "stdout",
     "output_type": "stream",
     "text": [
      "Nilai > 70 (Terdapat 82 nilai): \n",
      "[77, 100, 96, 95, 80, 82, 81, 72, 78, 100, 97, 71, 82, 85, 91, 75, 100, 99, 93, 91, 96, 76, 76, 80, 76, 79, 96, 91, 89, 75, 76, 79, 73, 89, 100, 77, 85, 71, 74, 73, 83, 90, 78, 74, 75, 99, 92, 97, 83, 94, 86, 72, 88, 88, 83, 85, 75, 86, 84, 89, 72, 100, 79, 91, 76, 76, 94, 79, 79, 81, 87, 96, 96, 88, 75, 97, 72, 99, 89, 88, 86, 88]\n"
     ]
    }
   ],
   "source": [
    "# nilai > 70\n",
    "print(\"Nilai > 70 (Terdapat\", len(lebih_dari), \"nilai): \")\n",
    "print(lebih_dari)"
   ]
  },
  {
   "cell_type": "markdown",
   "metadata": {},
   "source": [
    "### 3. Tampilkan standar deviasi dari sekumpulan nilai tersebut"
   ]
  },
  {
   "cell_type": "code",
   "execution_count": 113,
   "metadata": {},
   "outputs": [
    {
     "name": "stdout",
     "output_type": "stream",
     "text": [
      "Standar Deviasi:\n",
      "29.71548323307397\n"
     ]
    }
   ],
   "source": [
    "# standar deviasi\n",
    "print(\"Standar Deviasi:\")\n",
    "data = len(nilaiTugas)\n",
    "\n",
    "varian = ((data*(total_kuadrat)) - (total ** 2)) / (data*(data-1))\n",
    "\n",
    "#varian = varian / (data*(data-1))\n",
    "\n",
    "stdev = math.sqrt(varian)\n",
    "\n",
    "print(stdev)"
   ]
  },
  {
   "cell_type": "markdown",
   "metadata": {},
   "source": [
    "### 4. Tampilkan nilai maksimum dan minimum"
   ]
  },
  {
   "cell_type": "code",
   "execution_count": 114,
   "metadata": {},
   "outputs": [
    {
     "name": "stdout",
     "output_type": "stream",
     "text": [
      "Maksimum: 100\n",
      "Minimum: 0\n"
     ]
    }
   ],
   "source": [
    "# maksimum\n",
    "print(\"Maksimum:\", maksimum)\n",
    "\n",
    "# minimum\n",
    "print(\"Minimum:\", minimum)"
   ]
  },
  {
   "cell_type": "markdown",
   "metadata": {},
   "source": [
    "### 5. Tampilkan modus dari sekumpulan nilai tersebut"
   ]
  },
  {
   "cell_type": "code",
   "execution_count": 118,
   "metadata": {},
   "outputs": [
    {
     "name": "stdout",
     "output_type": "stream",
     "text": [
      "{70: 5, 56: 5, 67: 5, 44: 3, 50: 2, 77: 2, 100: 5, 13: 5, 19: 3, 5: 4, 96: 5, 95: 1, 80: 2, 11: 5, 18: 3, 82: 2, 43: 3, 64: 3, 81: 2, 72: 4, 78: 2, 16: 6, 69: 4, 97: 3, 31: 4, 40: 2, 6: 6, 12: 1, 28: 6, 39: 2, 55: 1, 8: 4, 48: 2, 45: 4, 25: 2, 10: 4, 71: 2, 34: 2, 35: 3, 85: 3, 91: 4, 21: 1, 75: 5, 61: 1, 1: 1, 99: 3, 93: 1, 17: 3, 76: 6, 65: 5, 23: 1, 37: 3, 20: 3, 58: 3, 51: 1, 79: 5, 63: 4, 22: 4, 89: 4, 29: 2, 62: 2, 73: 2, 0: 3, 32: 3, 74: 2, 83: 3, 90: 1, 53: 1, 92: 1, 41: 3, 49: 2, 15: 1, 94: 2, 86: 3, 88: 5, 4: 2, 7: 1, 66: 2, 52: 1, 54: 3, 24: 1, 84: 1, 46: 1, 60: 2, 47: 1, 27: 2, 2: 1, 38: 1, 42: 1, 59: 1, 57: 1, 87: 1, 26: 1}\n",
      "Modus (Terdapat 4 nilai dengan kemunculan sebanyak 6 kali)\n",
      "[16, 6, 28, 76]\n"
     ]
    }
   ],
   "source": [
    "# modus (paling banyak)\n",
    "print(list_freq)\n",
    "\n",
    "max_count = 0\n",
    "\n",
    "# key adalah nilai, sedangkan value dari key adalah total muncul\n",
    "# pertama, kita cari frequency yang paling banyak\n",
    "for key in list_freq:\n",
    "    if list_freq[key] > max_count:\n",
    "        max_count = list_freq[key]\n",
    "\n",
    "modus = []\n",
    "\n",
    "# setelah kita tau frequency paling banyak, kita ambil Nilainya saja\n",
    "for key in list_freq:\n",
    "    if list_freq[key] == max_count:\n",
    "        modus.append(key)\n",
    "\n",
    "print(\"Modus (Terdapat\", len(modus),\"nilai dengan kemunculan sebanyak\", max_count, \"kali)\")\n",
    "print(modus)"
   ]
  },
  {
   "cell_type": "code",
   "execution_count": null,
   "metadata": {},
   "outputs": [],
   "source": []
  }
 ],
 "metadata": {
  "kernelspec": {
   "display_name": "Python 3",
   "language": "python",
   "name": "python3"
  },
  "language_info": {
   "codemirror_mode": {
    "name": "ipython",
    "version": 3
   },
   "file_extension": ".py",
   "mimetype": "text/x-python",
   "name": "python",
   "nbconvert_exporter": "python",
   "pygments_lexer": "ipython3",
   "version": "3.7.0"
  }
 },
 "nbformat": 4,
 "nbformat_minor": 2
}
