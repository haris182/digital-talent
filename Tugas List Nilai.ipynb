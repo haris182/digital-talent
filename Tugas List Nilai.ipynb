{
 "cells": [
  {
   "attachments": {},
   "cell_type": "markdown",
   "metadata": {},
   "source": [
    "# LATIHAN 2 - Tugas List Nilai\n",
    "## Nama : Abdul Haris\n",
    "## Kelas: BIG DATA - A\n",
    "\n",
    "Diberikan sekumpulan Nilai Random antara 0 sampai dengan 100 sebanyak 250 nilai. Buatlah program untuk melakukan hal berikut:\n",
    "\n",
    "1. Tampilkan Angka Ganjil dari ke 250 nilai tersebut\n",
    "2. Tampilkan berapa banyak yang mendapatkan nilai lebih dari 70\n",
    "3. Tampilkan standar deviasi dari sekumpulan nilai tersebut\n",
    "4. Tampilkan nilai maksimum dan minimum\n",
    "5. Tampilkan modus dari sekumpulan nilai tersebut\n",
    "\n"
   ]
  },
  {
   "cell_type": "code",
   "execution_count": 241,
   "metadata": {
    "scrolled": true
   },
   "outputs": [
    {
     "name": "stdout",
     "output_type": "stream",
     "text": [
      "[100, 92, 98, 52, 63, 18, 20, 91, 47, 0, 28, 76, 52, 69, 72, 57, 47, 98, 37, 52, 61, 68, 53, 77, 26, 34, 65, 71, 86, 58, 37, 7, 62, 57, 29, 80, 75, 63, 89, 79, 42, 89, 39, 74, 82, 16, 52, 13, 30, 63, 45, 26, 92, 61, 27, 97, 91, 23, 68, 14, 85, 67, 23, 22, 28, 11, 25, 33, 54, 55, 3, 19, 39, 28, 35, 10, 57, 21, 21, 88, 20, 84, 9, 14, 85, 21, 44, 1, 14, 62, 25, 97, 28, 94, 21, 4, 71, 76, 60, 77, 52, 66, 89, 55, 21, 5, 48, 6, 20, 75, 24, 23, 4, 42, 76, 94, 18, 99, 87, 77, 82, 47, 95, 92, 62, 31, 14, 30, 23, 12, 79, 53, 62, 41, 47, 33, 34, 46, 91, 1, 100, 44, 72, 11, 77, 21, 49, 61, 60, 68, 31, 86, 33, 35, 76, 76, 74, 17, 30, 44, 17, 1, 62, 58, 22, 42, 96, 28, 95, 54, 99, 27, 53, 12, 88, 48, 72, 8, 87, 62, 11, 33, 76, 41, 18, 51, 10, 63, 80, 51, 31, 51, 11, 78, 66, 11, 2, 59, 43, 87, 29, 64, 74, 49, 0, 18, 67, 12, 94, 1, 39, 18, 11, 11, 64, 29, 72, 2, 57, 31, 67, 90, 86, 11, 81, 57, 74, 41, 25, 85, 85, 85, 81, 69, 7, 93, 56, 35, 38, 6, 50, 17, 61, 19, 53, 93, 41, 76, 24, 64]\n",
      "\n"
     ]
    }
   ],
   "source": [
    "import random\n",
    "import math\n",
    "\n",
    "# GENERATE RANDOM\n",
    "nilaiTugas = []\n",
    "\n",
    "for i in range(250):\n",
    "    nilaiTugas.append(random.randrange(0,101,1))\n",
    "\n",
    "print(nilaiTugas)\n",
    "\n",
    "ganjil = []\n",
    "lebih_dari = []\n",
    "maksimum = 0\n",
    "minimum = 50\n",
    "list_freq = {}\n",
    "total = 0\n",
    "total_kuadrat = 0\n",
    "\n",
    "for n in nilaiTugas:\n",
    "    # rumus ganjil\n",
    "    if n % 2 != 0:\n",
    "        ganjil.append(n)\n",
    "    # rumus lebih dari 70\n",
    "    if n > 70:\n",
    "        lebih_dari.append(n)\n",
    "    # rumus maksimum\n",
    "    if n > maksimum:\n",
    "        maksimum = n;\n",
    "    # rumus minimum\n",
    "    if n < minimum:\n",
    "        minimum = n;\n",
    "    # rumus modus\n",
    "    if n not in list_freq:\n",
    "        list_freq[n] = 1\n",
    "    else:\n",
    "        list_freq[n] = list_freq[n] + 1\n",
    "    # rumus untuk standar deviasi\n",
    "    total = total + n\n",
    "    total_kuadrat = total_kuadrat + (n**2)\n",
    "\n",
    "print()"
   ]
  },
  {
   "cell_type": "markdown",
   "metadata": {},
   "source": [
    "### 1. Ganjil"
   ]
  },
  {
   "cell_type": "code",
   "execution_count": 242,
   "metadata": {},
   "outputs": [
    {
     "name": "stdout",
     "output_type": "stream",
     "text": [
      "Ganjil:\n",
      "[63, 91, 47, 69, 57, 47, 37, 61, 53, 77, 65, 71, 37, 7, 57, 29, 75, 63, 89, 79, 89, 39, 13, 63, 45, 61, 27, 97, 91, 23, 85, 67, 23, 11, 25, 33, 55, 3, 19, 39, 35, 57, 21, 21, 9, 85, 21, 1, 25, 97, 21, 71, 77, 89, 55, 21, 5, 75, 23, 99, 87, 77, 47, 95, 31, 23, 79, 53, 41, 47, 33, 91, 1, 11, 77, 21, 49, 61, 31, 33, 35, 17, 17, 1, 95, 99, 27, 53, 87, 11, 33, 41, 51, 63, 51, 31, 51, 11, 11, 59, 43, 87, 29, 49, 67, 1, 39, 11, 11, 29, 57, 31, 67, 11, 81, 57, 41, 25, 85, 85, 85, 81, 69, 7, 93, 35, 17, 61, 19, 53, 93, 41]\n"
     ]
    }
   ],
   "source": [
    "# TAMPILKAN:\n",
    "# ganjil\n",
    "print(\"Ganjil:\")\n",
    "print(ganjil)"
   ]
  },
  {
   "cell_type": "markdown",
   "metadata": {},
   "source": [
    "### 2. Nilai > 70"
   ]
  },
  {
   "cell_type": "code",
   "execution_count": 243,
   "metadata": {},
   "outputs": [
    {
     "name": "stdout",
     "output_type": "stream",
     "text": [
      "Nilai > 70:\n",
      "[100, 92, 98, 91, 76, 72, 98, 77, 71, 86, 80, 75, 89, 79, 89, 74, 82, 92, 97, 91, 85, 88, 84, 85, 97, 94, 71, 76, 77, 89, 75, 76, 94, 99, 87, 77, 82, 95, 92, 79, 91, 100, 72, 77, 86, 76, 76, 74, 96, 95, 99, 88, 72, 87, 76, 80, 78, 87, 74, 94, 72, 90, 86, 81, 74, 85, 85, 85, 81, 93, 93, 76]\n"
     ]
    }
   ],
   "source": [
    "# nilai > 70\n",
    "print(\"Nilai > 70:\")\n",
    "print(lebih_dari)"
   ]
  },
  {
   "cell_type": "markdown",
   "metadata": {},
   "source": [
    "### 3. Standar Deviasi"
   ]
  },
  {
   "cell_type": "code",
   "execution_count": 244,
   "metadata": {},
   "outputs": [
    {
     "name": "stdout",
     "output_type": "stream",
     "text": [
      "Standar Deviasi:\n",
      "28.52\n"
     ]
    }
   ],
   "source": [
    "# standar deviasi\n",
    "print(\"Standar Deviasi:\")\n",
    "data = len(nilaiTugas)\n",
    "\n",
    "varian = ((data*(total_kuadrat)) - (total ** 2)) / (data*(data-1))\n",
    "\n",
    "#varian = varian / (data*(data-1))\n",
    "\n",
    "stdev = math.sqrt(varian)\n",
    "\n",
    "print(round(stdev,2))"
   ]
  },
  {
   "cell_type": "markdown",
   "metadata": {},
   "source": [
    "### 4. Maksimum"
   ]
  },
  {
   "cell_type": "code",
   "execution_count": 245,
   "metadata": {},
   "outputs": [
    {
     "name": "stdout",
     "output_type": "stream",
     "text": [
      "Maksimum:\n",
      "100\n"
     ]
    }
   ],
   "source": [
    "# maksimum\n",
    "print(\"Maksimum:\")\n",
    "print(maksimum)"
   ]
  },
  {
   "cell_type": "markdown",
   "metadata": {},
   "source": [
    "### 5. Minimum"
   ]
  },
  {
   "cell_type": "code",
   "execution_count": 246,
   "metadata": {},
   "outputs": [
    {
     "name": "stdout",
     "output_type": "stream",
     "text": [
      "Minimum:\n",
      "0\n"
     ]
    }
   ],
   "source": [
    "# minimum\n",
    "print(\"Minimum:\")\n",
    "print(minimum)"
   ]
  },
  {
   "cell_type": "markdown",
   "metadata": {},
   "source": [
    "### 6. Bilangan Modus"
   ]
  },
  {
   "cell_type": "code",
   "execution_count": 247,
   "metadata": {},
   "outputs": [
    {
     "name": "stdout",
     "output_type": "stream",
     "text": [
      "{100: 2, 92: 3, 98: 2, 52: 5, 63: 4, 18: 5, 20: 3, 91: 3, 47: 4, 0: 2, 28: 5, 76: 7, 69: 2, 72: 4, 57: 5, 37: 2, 61: 4, 68: 3, 53: 4, 77: 4, 26: 2, 34: 2, 65: 1, 71: 2, 86: 3, 58: 2, 7: 2, 62: 6, 29: 3, 80: 2, 75: 2, 89: 3, 79: 2, 42: 3, 39: 3, 74: 4, 82: 2, 16: 1, 13: 1, 30: 3, 45: 1, 27: 2, 97: 2, 23: 4, 14: 4, 85: 5, 67: 3, 22: 2, 11: 8, 25: 3, 33: 4, 54: 2, 55: 2, 3: 1, 19: 2, 35: 3, 10: 2, 21: 6, 88: 2, 84: 1, 9: 1, 44: 3, 1: 4, 94: 3, 4: 2, 60: 2, 66: 2, 5: 1, 48: 2, 6: 2, 24: 2, 99: 2, 87: 3, 95: 2, 31: 4, 12: 3, 41: 4, 46: 1, 49: 2, 17: 3, 96: 1, 8: 1, 51: 3, 78: 1, 2: 2, 59: 1, 43: 1, 64: 3, 90: 1, 81: 2, 93: 2, 56: 1, 38: 1, 50: 1}\n",
      "Modus:\n",
      "[11]\n"
     ]
    }
   ],
   "source": [
    "# modus (paling banyak)\n",
    "print(list_freq)\n",
    "print(\"Modus:\")\n",
    "\n",
    "max_count = 0\n",
    "\n",
    "# key adalah nilai, sedangkan value dari key adalah total muncul\n",
    "# pertama, kita cari frequency yang paling banyak\n",
    "for key in list_freq:\n",
    "    if list_freq[key] > max_count:\n",
    "        max_count = list_freq[key]\n",
    "\n",
    "modus = []\n",
    "\n",
    "# setelah kita tau frequency paling banyak, kita ambil Nilainya saja\n",
    "for key in list_freq:\n",
    "    if list_freq[key] == max_count:\n",
    "        modus.append(key)\n",
    "print(modus)"
   ]
  },
  {
   "cell_type": "code",
   "execution_count": null,
   "metadata": {},
   "outputs": [],
   "source": []
  }
 ],
 "metadata": {
  "kernelspec": {
   "display_name": "Python 3",
   "language": "python",
   "name": "python3"
  },
  "language_info": {
   "codemirror_mode": {
    "name": "ipython",
    "version": 3
   },
   "file_extension": ".py",
   "mimetype": "text/x-python",
   "name": "python",
   "nbconvert_exporter": "python",
   "pygments_lexer": "ipython3",
   "version": "3.7.0"
  }
 },
 "nbformat": 4,
 "nbformat_minor": 2
}
